{
 "cells": [
  {
   "cell_type": "code",
   "execution_count": 4,
   "metadata": {},
   "outputs": [
    {
     "ename": "ModuleNotFoundError",
     "evalue": "No module named 'xlrd2'",
     "output_type": "error",
     "traceback": [
      "\u001b[0;31m---------------------------------------------------------------------------\u001b[0m",
      "\u001b[0;31mModuleNotFoundError\u001b[0m                       Traceback (most recent call last)",
      "Cell \u001b[0;32mIn[4], line 1\u001b[0m\n\u001b[0;32m----> 1\u001b[0m \u001b[39mimport\u001b[39;00m \u001b[39mxlrd2\u001b[39;00m\n\u001b[1;32m      3\u001b[0m wb \u001b[39m=\u001b[39m xlrd2\u001b[39m.\u001b[39mopen_workbook(\u001b[39m'\u001b[39m\u001b[39mstudent.xls\u001b[39m\u001b[39m'\u001b[39m)\n\u001b[1;32m      4\u001b[0m ws \u001b[39m=\u001b[39m wb\u001b[39m.\u001b[39msheet_by_index(\u001b[39m0\u001b[39m)\n",
      "\u001b[0;31mModuleNotFoundError\u001b[0m: No module named 'xlrd2'"
     ]
    }
   ],
   "source": [
    "import xlrd2\n",
    "\n",
    "wb = xlrd2.open_workbook('student.xls')\n",
    "ws = wb.sheet_by_index(0)\n",
    "keys = ws.row_values(0)[:3]\n",
    "print (keys)\n",
    "\n",
    "vals = ws.row_values(1)\n",
    "row = vals[:2]\n",
    "row.append(vals[2:])\n",
    "d = dict(zip(keys,row))\n",
    "\n",
    "dlist = []\n",
    "dlist.append(d)\n",
    "\n",
    "vals = ws.row_values(2)\n",
    "row = vals[:2]\n",
    "row.append(vals[2:])\n",
    "d = dict(zip(keys,row))\n",
    "dlist.append(d)\n",
    "\n",
    "vals = ws.row_values(3)\n",
    "row = vals[:2]\n",
    "row.append(vals[2:])\n",
    "d = dict(zip(keys,row))\n",
    "# print (d)\n",
    "dlist.append(d)\n",
    "\n",
    "print (dlist)"
   ]
  },
  {
   "cell_type": "code",
   "execution_count": null,
   "metadata": {},
   "outputs": [],
   "source": []
  }
 ],
 "metadata": {
  "kernelspec": {
   "display_name": "Python 3 (ipykernel)",
   "language": "python",
   "name": "python3"
  },
  "language_info": {
   "codemirror_mode": {
    "name": "ipython",
    "version": 3
   },
   "file_extension": ".py",
   "mimetype": "text/x-python",
   "name": "python",
   "nbconvert_exporter": "python",
   "pygments_lexer": "ipython3",
   "version": "3.10.4"
  },
  "orig_nbformat": 4
 },
 "nbformat": 4,
 "nbformat_minor": 2
}
